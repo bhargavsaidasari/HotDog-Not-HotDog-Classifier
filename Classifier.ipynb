{
 "cells": [
  {
   "cell_type": "markdown",
   "metadata": {},
   "source": [
    "## Downloading Data\n"
   ]
  },
  {
   "cell_type": "code",
   "execution_count": 24,
   "metadata": {},
   "outputs": [],
   "source": [
    "import urllib.request\n",
    "import cv2\n",
    "import numpy as np\n",
    "import os\n",
    "\n",
    "def store_raw_images():\n",
    "    images_link='http://www.image-net.org/api/text/imagenet.synset.geturls?wnid=n07804323'\n",
    "    image_urls=urllib.request.urlopen(images_link).read().decode()\n",
    "    \n",
    "    if not os.path.exists('not-hotdog'):\n",
    "        os.makedirs('not-hotdog')\n",
    "    \n",
    "    pic_num=898\n",
    "    \n",
    "    for i in image_urls.split('\\n'):\n",
    "        print(i)\n",
    "        try:\n",
    "            urllib.request.urlretrieve(i,\"not-hotdog/\"+str(pic_num)+'.jpg')\n",
    "            pic_num+=1\n",
    "        except Exception as e:\n",
    "            print(str(e))"
   ]
  },
  {
   "cell_type": "code",
   "execution_count": null,
   "metadata": {},
   "outputs": [],
   "source": []
  },
  {
   "cell_type": "code",
   "execution_count": 28,
   "metadata": {},
   "outputs": [],
   "source": [
    "%reload_ext autoreload\n",
    "%autoreload 2\n",
    "%matplotlib inline"
   ]
  },
  {
   "cell_type": "code",
   "execution_count": 29,
   "metadata": {},
   "outputs": [],
   "source": [
    "from fastai.imports import *"
   ]
  },
  {
   "cell_type": "code",
   "execution_count": 35,
   "metadata": {},
   "outputs": [],
   "source": [
    "from fastai.transforms import *\n",
    "from fastai.conv_learner import * \n",
    "from fastai.model import *\n",
    "from fastai.dataset import *\n",
    "from fastai.sgdr import *\n",
    "from fastai.plots import *"
   ]
  },
  {
   "cell_type": "code",
   "execution_count": 33,
   "metadata": {},
   "outputs": [],
   "source": [
    "PATH='hotdog-nothotdog'\n",
    "sz=40"
   ]
  },
  {
   "cell_type": "code",
   "execution_count": 39,
   "metadata": {},
   "outputs": [
    {
     "data": {
      "application/vnd.jupyter.widget-view+json": {
       "model_id": "4d52205c296c443a988af73b2283cbac",
       "version_major": 2,
       "version_minor": 0
      },
      "text/html": [
       "<p>Failed to display Jupyter Widget of type <code>HBox</code>.</p>\n",
       "<p>\n",
       "  If you're reading this message in the Jupyter Notebook or JupyterLab Notebook, it may mean\n",
       "  that the widgets JavaScript is still loading. If this message persists, it\n",
       "  likely means that the widgets JavaScript library is either not installed or\n",
       "  not enabled. See the <a href=\"https://ipywidgets.readthedocs.io/en/stable/user_install.html\">Jupyter\n",
       "  Widgets Documentation</a> for setup instructions.\n",
       "</p>\n",
       "<p>\n",
       "  If you're reading this message in another frontend (for example, a static\n",
       "  rendering on GitHub or <a href=\"https://nbviewer.jupyter.org/\">NBViewer</a>),\n",
       "  it may mean that your frontend doesn't currently support widgets.\n",
       "</p>\n"
      ],
      "text/plain": [
       "HBox(children=(IntProgress(value=0, description='Epoch', max=10), HTML(value='')))"
      ]
     },
     "metadata": {},
     "output_type": "display_data"
    },
    {
     "name": "stdout",
     "output_type": "stream",
     "text": [
      "epoch:   0, train_loss: 0.540687, val_loss: 0.384745, accuracy: 0.833705\n",
      "epoch:   1, train_loss: 0.439480, val_loss: 0.413287, accuracy: 0.821936\n",
      "epoch:   2, train_loss: 0.397346, val_loss: 0.375701, accuracy: 0.838981\n",
      "epoch:   3, train_loss: 0.347065, val_loss: 0.384424, accuracy: 0.834010\n",
      "epoch:   4, train_loss: 0.322738, val_loss: 0.412119, accuracy: 0.834010\n",
      "epoch:   5, train_loss: 0.295927, val_loss: 0.402518, accuracy: 0.841112\n",
      "epoch:   6, train_loss: 0.347420, val_loss: 0.399601, accuracy: 0.844663\n",
      "epoch:   7, train_loss: 0.323711, val_loss: 0.409753, accuracy: 0.827922\n",
      "epoch:   8, train_loss: 0.301934, val_loss: 0.395203, accuracy: 0.846084\n",
      "epoch:   9, train_loss: 0.268125, val_loss: 0.408126, accuracy: 0.838981\n",
      "\n"
     ]
    }
   ],
   "source": [
    "arch=resnet34\n",
    "data=ImageClassifierData.from_paths(PATH,tfms=tfms_from_model(arch,sz))\n",
    "learn=ConvLearner.pretrained(arch,data,precompute=True)\n",
    "learn.fit(0.01,10)"
   ]
  }
 ],
 "metadata": {
  "kernelspec": {
   "display_name": "Python [conda env:fastai]",
   "language": "python",
   "name": "conda-env-fastai-py"
  },
  "language_info": {
   "codemirror_mode": {
    "name": "ipython",
    "version": 3
   },
   "file_extension": ".py",
   "mimetype": "text/x-python",
   "name": "python",
   "nbconvert_exporter": "python",
   "pygments_lexer": "ipython3",
   "version": "3.6.4"
  }
 },
 "nbformat": 4,
 "nbformat_minor": 2
}
